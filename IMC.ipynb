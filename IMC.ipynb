{
  "nbformat": 4,
  "nbformat_minor": 0,
  "metadata": {
    "colab": {
      "name": "IMC.ipynb",
      "provenance": [],
      "collapsed_sections": [],
      "authorship_tag": "ABX9TyP+Hqzyz4kZEg7AnbFi887W",
      "include_colab_link": true
    },
    "kernelspec": {
      "name": "python3",
      "display_name": "Python 3"
    },
    "language_info": {
      "name": "python"
    }
  },
  "cells": [
    {
      "cell_type": "markdown",
      "metadata": {
        "id": "view-in-github",
        "colab_type": "text"
      },
      "source": [
        "<a href=\"https://colab.research.google.com/github/StevenJ10/POE-5-1/blob/main/IMC.ipynb\" target=\"_parent\"><img src=\"https://colab.research.google.com/assets/colab-badge.svg\" alt=\"Open In Colab\"/></a>"
      ]
    },
    {
      "cell_type": "markdown",
      "source": [
        "# Indice de Masa Corporal\n",
        "# Steven Velásquez Medina"
      ],
      "metadata": {
        "id": "Q-ixLdcgxedK"
      }
    },
    {
      "cell_type": "code",
      "execution_count": 43,
      "metadata": {
        "colab": {
          "base_uri": "https://localhost:8080/"
        },
        "cellView": "form",
        "id": "BIFv0ReXxTPH",
        "outputId": "5d4d4c05-7ac3-48fe-fd77-d74eafd3bc74"
      },
      "outputs": [
        {
          "output_type": "stream",
          "name": "stdout",
          "text": [
            "Su IMC es de 22.64\n"
          ]
        }
      ],
      "source": [
        "#@title Calcular IMC { run: \"auto\", vertical-output: true }\n",
        "Peso = 75 #@param {type:\"number\"}\n",
        "Talla = 1.82 #@param {type:\"raw\"}\n",
        "altura = Talla ** 2\n",
        "imc = round((Peso / altura), 2)\n",
        "print(\"Su IMC es de \" + str(imc))"
      ]
    }
  ]
}